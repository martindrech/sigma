{
 "cells": [
  {
   "cell_type": "code",
   "execution_count": 5,
   "metadata": {
    "collapsed": false
   },
   "outputs": [],
   "source": [
    "from __future__ import division\n",
    "from scipy.integrate import odeint\n",
    "import numpy as np\n",
    "import pylab as plt\n",
    "from scipy.linalg import eig,logm\n",
    "%matplotlib inline\n",
    "from scipy.optimize import curve_fit\n",
    "import aes as aes\n",
    "import floquet as fl\n",
    "import warnings\n",
    "warnings.filterwarnings('ignore')"
   ]
  },
  {
   "cell_type": "code",
   "execution_count": 58,
   "metadata": {
    "collapsed": false
   },
   "outputs": [
    {
     "name": "stdout",
     "output_type": "stream",
     "text": [
      "0\n",
      "1\n",
      "2\n",
      "3\n",
      "4\n",
      "5\n",
      "6\n",
      "7\n",
      "8\n",
      "9\n"
     ]
    },
    {
     "data": {
      "text/plain": [
       "[<matplotlib.lines.Line2D at 0xaabec96c>]"
      ]
     },
     "execution_count": 58,
     "metadata": {},
     "output_type": "execute_result"
    },
    {
     "data": {
      "image/png": "[encoded data removed]",
      "text/plain": [
       "<matplotlib.figure.Figure at 0xaac611cc>"
      ]
     },
     "metadata": {},
     "output_type": "display_data"
    }
   ],
   "source": [
    "w0 = 1\n",
    "wd = 2.1*w0\n",
    "c_1 = 0*w0\n",
    "c_0 = 0.5*w0\n",
    "g = .3*w0\n",
    "ca1, cq1 = (4/wd**2)*(w0**2-g**2/4+c_0-2*g), -(2/wd**2)*c_1\n",
    "ca2, cq2 = (4/wd**2)*(w0**2-g**2/4-c_0-2*g), (2/wd**2)*c_1\n",
    "nu1, nu2 = fl.mathieu_nu(ca1, cq1), fl.mathieu_nu(ca2, cq2)\n",
    "#A1, 0A2 = fl.mathieu_coefs(ca1, cq1, nu1), fl.mathieu_coefs(ca2, cq2, nu2)\n",
    "i = 2\n",
    "#A1, A2 = A1[A1.size//2-i:A1.size//2+i+1], A2[A2.size//2-i:A2.size//2+i+1]\n",
    "t = np.linspace(0,5, 30)\n",
    "#\n",
    "#\n",
    "wc = 50\n",
    "#T = 50\n",
    "T1, T2 = 20, 25\n",
    "#\n",
    "c = c_0+c_1*np.cos(2*t)\n",
    "V = w0**2-2*g\n",
    "calor = np.array([])\n",
    "temps = np.arange(0, 10, 1)\n",
    "for T in temps:\n",
    "    x1x1, x2x2, x1x2, x1p1, x2p2, x1p2, x2p1, p1p1, p2p2, p1p2 = aes.cov(t, g, ca1, cq1, ca2, cq2, 20, 20+T, wc, i, unpacked=True)\n",
    "    Mcov = np.array([[x1x1, x1p1, x1x2, x1p2], [x1p1, p1p1, x2p1, p1p2], [x1x2, x2p1, x2x2, x2p2], [x1p2, p1p2, x2p2, p2p2]])\n",
    "    heat1, heat2 = aes.heat(t, Mcov, c, V)  \n",
    "    calor = np.append(calor, np.median(heat1))\n",
    "    print T\n",
    "plt.plot(temps, calor)\n"
   ]
  },
  {
   "cell_type": "code",
   "execution_count": 53,
   "metadata": {
    "collapsed": false
   },
   "outputs": [
    {
     "data": {
      "text/plain": [
       "[0, 4.7619047619047619, -1, 1]"
      ]
     },
     "execution_count": 53,
     "metadata": {},
     "output_type": "execute_result"
    },
    {
     "data": {
      "image/png": "[encoded data removed]",
      "text/plain": [
       "<matplotlib.figure.Figure at 0xaacdea8c>"
      ]
     },
     "metadata": {},
     "output_type": "display_data"
    }
   ],
   "source": [
    "#plt.plot(t, heat1, 'bo', t, heat2, 'ro')\n",
    "plt.plot(t, np.ones(len(t))*np.median(heat1), 'b', t, np.ones(len(t))*np.median(heat2), 'r')\n",
    "plt.axis([0, np.max(t), -1, 1])"
   ]
  },
  {
   "cell_type": "code",
   "execution_count": 45,
   "metadata": {
    "collapsed": false
   },
   "outputs": [
    {
     "data": {
      "text/plain": [
       "[<matplotlib.lines.Line2D at 0xaadbdf6c>]"
      ]
     },
     "execution_count": 45,
     "metadata": {},
     "output_type": "execute_result"
    },
    {
     "data": {
      "image/png": "[encoded data removed]",
      "text/plain": [
       "<matplotlib.figure.Figure at 0xaae73cac>"
      ]
     },
     "metadata": {},
     "output_type": "display_data"
    }
   ],
   "source": [
    "plt.plot(t, p1p1, 'o')\n",
    "plt.plot(t, np.ones(len(t))*np.median(p1p1), 'r')\n",
    "plt.plot(t, np.ones(len(t))*np.average(p1p1), 'b')\n",
    "plt.axis([0, 30, -30, 30])\n",
    "def func(x, a, c, d):\n",
    "    return a * np.cos(wd * x + d) + c\n",
    "\n",
    "\n",
    "xdata = t\n",
    "ydata = p1p1\n",
    "popt, pcov = curve_fit(func, xdata, ydata)\n",
    "\n",
    "plt.plot(xdata, ydata, 'bo')\n",
    "plt.plot(xdata, func(xdata, popt[0], popt[1], popt[2]), '-r')\n"
   ]
  },
  {
   "cell_type": "code",
   "execution_count": 56,
   "metadata": {
    "collapsed": false
   },
   "outputs": [
    {
     "data": {
      "text/plain": [
       "array([0, 1, 2, 3, 4, 5, 6, 7, 8, 9])"
      ]
     },
     "execution_count": 56,
     "metadata": {},
     "output_type": "execute_result"
    }
   ],
   "source": [
    "np.arange(0, 10, 1)"
   ]
  },
  {
   "cell_type": "code",
   "execution_count": null,
   "metadata": {
    "collapsed": true
   },
   "outputs": [],
   "source": []
  }
 ],
 "metadata": {
  "kernelspec": {
   "display_name": "Python 2",
   "language": "python",
   "name": "python2"
  },
  "language_info": {
   "codemirror_mode": {
    "name": "ipython",
    "version": 2
   },
   "file_extension": ".py",
   "mimetype": "text/x-python",
   "name": "python",
   "nbconvert_exporter": "python",
   "pygments_lexer": "ipython2",
   "version": "2.7.10"
  }
 },
 "nbformat": 4,
 "nbformat_minor": 0
}
